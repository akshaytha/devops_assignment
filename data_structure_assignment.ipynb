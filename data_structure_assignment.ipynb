{
 "cells": [
  {
   "cell_type": "code",
   "execution_count": 3,
   "id": "f1dd2eb6-863d-4d10-af93-476b7b71138f",
   "metadata": {},
   "outputs": [
    {
     "name": "stdout",
     "output_type": "stream",
     "text": [
      "Hello\n"
     ]
    }
   ],
   "source": [
    "## Q1.Discuss string slicing and provide examples?\n",
    "##Example of string slicing\n",
    "\n",
    "###--Basic Slicing\n",
    "text = \"Hello, World!\"\n",
    "slice1 = text[0:5]\n",
    "print(slice1)  \n",
    "##Step slicing\n",
    "text = \"Hello, World!\""
   ]
  },
  {
   "cell_type": "code",
   "execution_count": 4,
   "id": "d129f92b-e5a0-4a8b-855d-fc41479626cd",
   "metadata": {},
   "outputs": [
    {
     "name": "stdout",
     "output_type": "stream",
     "text": [
      "Hlo ol!\n",
      "el,Wr\n"
     ]
    }
   ],
   "source": [
    "# Slices the entire string with a step of 2\n",
    "slice6 = text[::2]\n",
    "print(slice6) \n",
    "slice7 = text[1:10:2]\n",
    "print(slice7) \n",
    "## Reversing a string\n",
    "text = \"Hello, World!\""
   ]
  },
  {
   "cell_type": "code",
   "execution_count": 5,
   "id": "0934031d-4d27-40e7-8966-078359ea96ee",
   "metadata": {},
   "outputs": [
    {
     "name": "stdout",
     "output_type": "stream",
     "text": [
      "!dlroW ,olleH\n"
     ]
    }
   ],
   "source": [
    "# Slices the string in reverse order\n",
    "reversed_text = text[::-1]\n",
    "print(reversed_text)\n"
   ]
  },
  {
   "cell_type": "code",
   "execution_count": 6,
   "id": "a7a38ca5-f714-494a-89e5-04d5fdd6dbea",
   "metadata": {},
   "outputs": [
    {
     "name": "stdout",
     "output_type": "stream",
     "text": [
      "['apple', 'orange', 'cherry']\n"
     ]
    }
   ],
   "source": [
    "## Q2.Explain the key features of lists in Python?\n",
    "## examples\n",
    "\n",
    "fruits = [\"apple\", \"banana\", \"cherry\"]\n",
    "fruits[1] = \"orange\"  # Modifies the second element\n",
    "print(fruits) \n"
   ]
  },
  {
   "cell_type": "code",
   "execution_count": 7,
   "id": "19b9f8ed-7c07-4513-a340-92ae55bba591",
   "metadata": {},
   "outputs": [
    {
     "name": "stdout",
     "output_type": "stream",
     "text": [
      "[1, 2, 3, 4]\n",
      "[1, 2, 3]\n"
     ]
    }
   ],
   "source": [
    "## Dynamic size\n",
    "numbers = [1, 2, 3]\n",
    "numbers.append(4)  # Adds an element to the end of the list\n",
    "print(numbers)  \n",
    "\n",
    "numbers.pop()  # Removes the last element\n",
    "print(numbers) "
   ]
  },
  {
   "cell_type": "code",
   "execution_count": 8,
   "id": "26721075-9f3c-49bf-ae74-524d960eee80",
   "metadata": {},
   "outputs": [
    {
     "name": "stdout",
     "output_type": "stream",
     "text": [
      "[1, 'hello', 3.14, [4, 5, 6]]\n"
     ]
    }
   ],
   "source": [
    "## Heterogeneous Elements:\n",
    "mixed_list = [1, \"hello\", 3.14, [4, 5, 6]]\n",
    "print(mixed_list) "
   ]
  },
  {
   "cell_type": "code",
   "execution_count": 9,
   "id": "623cc57b-d4d9-4214-b7f3-fbccb8c0c15d",
   "metadata": {},
   "outputs": [
    {
     "name": "stdout",
     "output_type": "stream",
     "text": [
      "apple\n",
      "cherry\n"
     ]
    }
   ],
   "source": [
    "## Q3.Describe how to access, modify and delete elements in a list with examples?\n",
    "\n",
    "## Example Accesing elemnts\n",
    "fruits = [\"apple\", \"banana\", \"cherry\", \"date\"]\n",
    "# Accessing elements by positive index\n",
    "print(fruits[0])  \n",
    "print(fruits[2])"
   ]
  },
  {
   "cell_type": "code",
   "execution_count": 10,
   "id": "639e3674-3652-46eb-92e2-bb7c40a8f524",
   "metadata": {},
   "outputs": [
    {
     "name": "stdout",
     "output_type": "stream",
     "text": [
      "date\n",
      "banana\n"
     ]
    }
   ],
   "source": [
    "# Accessing elements by negative index\n",
    "print(fruits[-1])  \n",
    "print(fruits[-3]) "
   ]
  },
  {
   "cell_type": "code",
   "execution_count": 11,
   "id": "8cd1543a-483e-474e-8c16-b4a3a5238e89",
   "metadata": {},
   "outputs": [
    {
     "name": "stdout",
     "output_type": "stream",
     "text": [
      "[11, 25, 39, 41, 76]\n"
     ]
    }
   ],
   "source": [
    "### modifying elements\n",
    "numbers = [11, 23, 39, 41, 76]\n",
    "\n",
    "# Modifying a single element\n",
    "numbers[1] = 25\n",
    "print(numbers) \n"
   ]
  },
  {
   "cell_type": "code",
   "execution_count": 12,
   "id": "a86b6161-66a1-4922-a80f-17925256bd12",
   "metadata": {},
   "outputs": [
    {
     "name": "stdout",
     "output_type": "stream",
     "text": [
      "[11, 25, 35, 45, 76]\n"
     ]
    }
   ],
   "source": [
    "# Modifying multiple elements using slicing\n",
    "numbers[2:4] = [35, 45]\n",
    "print(numbers)"
   ]
  },
  {
   "cell_type": "code",
   "execution_count": 13,
   "id": "aaeffea0-7c95-41b3-a4ba-2b973de4aa18",
   "metadata": {},
   "outputs": [
    {
     "name": "stdout",
     "output_type": "stream",
     "text": [
      "['red', 'blue', 'yellow']\n"
     ]
    }
   ],
   "source": [
    "### deleting elements\n",
    "\n",
    "colors = [\"red\", \"green\", \"blue\", \"yellow\"]\n",
    "\n",
    "# Deleting an element by index using `del`\n",
    "del colors[1]\n",
    "print(colors)"
   ]
  },
  {
   "cell_type": "code",
   "execution_count": 14,
   "id": "28ac47cf-000f-49d2-a070-07da04c6c009",
   "metadata": {},
   "outputs": [
    {
     "name": "stdout",
     "output_type": "stream",
     "text": [
      "['red', 'blue', 'yellow']\n"
     ]
    }
   ],
   "source": [
    "colors = [\"red\", \"green\", \"blue\", \"yellow\"]\n",
    "\n",
    "# Deleting an element by value using `remove()`\n",
    "colors.remove(\"green\")\n",
    "print(colors)\n"
   ]
  },
  {
   "cell_type": "code",
   "execution_count": 15,
   "id": "5bb96b98-84c7-404a-a09b-704030045cb3",
   "metadata": {},
   "outputs": [
    {
     "name": "stdout",
     "output_type": "stream",
     "text": [
      "yellow\n",
      "['red', 'blue']\n"
     ]
    }
   ],
   "source": [
    "# Deleting the last element using `pop()` without an index\n",
    "last_color = colors.pop()\n",
    "print(last_color)  \n",
    "print(colors)  \n"
   ]
  },
  {
   "cell_type": "code",
   "execution_count": 16,
   "id": "02ec425a-45b7-4eea-9dbd-c7bcba02f93f",
   "metadata": {},
   "outputs": [
    {
     "name": "stdout",
     "output_type": "stream",
     "text": [
      "hello\n"
     ]
    }
   ],
   "source": [
    "### Q4.Compare and contrast tuples and lists of examples?\n",
    "# List example\n",
    "list_example = [1, \"hello\", 3.14]\n",
    "print(list_example[1]) "
   ]
  },
  {
   "cell_type": "code",
   "execution_count": 18,
   "id": "fbffc276-b838-46ca-8e55-e08fafabbb51",
   "metadata": {},
   "outputs": [
    {
     "name": "stdout",
     "output_type": "stream",
     "text": [
      "hello\n"
     ]
    }
   ],
   "source": [
    "# Tuple example\n",
    "tuple_example = (1, \"hello\", 3.14)\n",
    "print(tuple_example[1])  \n"
   ]
  },
  {
   "cell_type": "code",
   "execution_count": 19,
   "id": "7ccbcbea-9cab-44de-9350-2239563bfb70",
   "metadata": {},
   "outputs": [
    {
     "name": "stdout",
     "output_type": "stream",
     "text": [
      "(1, 2, 3)\n"
     ]
    }
   ],
   "source": [
    "## SYNTAX FORM \n",
    "\n",
    "# Creating a tuple\n",
    "tuple_example = (1, 2, 3)  # Using parentheses\n",
    "tuple_without_parentheses = 1, 2, 3  # Packing without parentheses\n",
    "print(tuple_example)  "
   ]
  },
  {
   "cell_type": "code",
   "execution_count": 20,
   "id": "b17d592d-8dfe-4b8c-8080-bb45c08e5c98",
   "metadata": {},
   "outputs": [
    {
     "name": "stdout",
     "output_type": "stream",
     "text": [
      "[1, 2, 3]\n"
     ]
    }
   ],
   "source": [
    "# Creating a list\n",
    "list_example = [1, 2, 3]  # Using square brackets\n",
    "print(list_example)"
   ]
  },
  {
   "cell_type": "code",
   "execution_count": 21,
   "id": "96778d4a-1f7b-4af0-bc62-5c99f1f2ba2a",
   "metadata": {},
   "outputs": [
    {
     "name": "stdout",
     "output_type": "stream",
     "text": [
      "{'cherry', 'banana', 'apple'}\n"
     ]
    }
   ],
   "source": [
    "### Q5.Describe the key features of sets and provide examples of their use?\n",
    "\n",
    "## EXAMPLES\n",
    "##Creating a Set and Removing Duplicates:\n",
    "# Creating a set\n",
    "fruits = {\"apple\", \"banana\", \"cherry\", \"apple\"}\n",
    "print(fruits)  "
   ]
  },
  {
   "cell_type": "code",
   "execution_count": 22,
   "id": "0da56434-fc8f-40d0-bf81-046b417d90d7",
   "metadata": {},
   "outputs": [
    {
     "name": "stdout",
     "output_type": "stream",
     "text": [
      "{'blue', 'yellow', 'green', 'red'}\n",
      "{'blue', 'yellow', 'red'}\n"
     ]
    }
   ],
   "source": [
    "\n",
    "##Adding and Removing Elements:\n",
    "colors = {\"red\", \"green\", \"blue\"}\n",
    "colors.add(\"yellow\")\n",
    "print(colors) \n",
    "\n",
    "colors.remove(\"green\")\n",
    "print(colors) \n"
   ]
  },
  {
   "cell_type": "code",
   "execution_count": 23,
   "id": "a9bebd24-5795-4e97-8ef5-889ed4d7ff84",
   "metadata": {},
   "outputs": [
    {
     "name": "stdout",
     "output_type": "stream",
     "text": [
      "{1, 2, 3, 4, 5}\n",
      "{3}\n"
     ]
    }
   ],
   "source": [
    "## Mathematically operations\n",
    "set_a = {1, 2, 3}\n",
    "set_b = {3, 4, 5}\n",
    "\n",
    "# Union (all elements)\n",
    "print(set_a | set_b)  \n",
    "\n",
    "# Intersection (common elements)\n",
    "print(set_a & set_b)"
   ]
  },
  {
   "cell_type": "code",
   "execution_count": 24,
   "id": "cd1902b6-551c-4891-b061-342746acc2f5",
   "metadata": {},
   "outputs": [
    {
     "name": "stdout",
     "output_type": "stream",
     "text": [
      "{1, 2, 3, 4, 5}\n"
     ]
    }
   ],
   "source": [
    "####  Q6.Discuss the use cases of tuples and sets in Python programming?\n",
    "\n",
    "## examples\n",
    "#removing duplicate collection\n",
    "numbers = [1, 2, 2, 3, 4, 4, 5]\n",
    "unique_numbers = set(numbers)\n",
    "print(unique_numbers) "
   ]
  },
  {
   "cell_type": "code",
   "execution_count": 25,
   "id": "233e6ca5-dff2-4fd2-9d25-7d2578661823",
   "metadata": {},
   "outputs": [
    {
     "name": "stdout",
     "output_type": "stream",
     "text": [
      "{'cherry', 'apple'}\n"
     ]
    }
   ],
   "source": [
    "##Efficient data filtering\n",
    "##examples\n",
    "all_items = {\"apple\", \"banana\", \"cherry\", \"date\"}\n",
    "unwanted_items = {\"banana\", \"date\"}\n",
    "\n",
    "desired_items = all_items - unwanted_items\n",
    "print(desired_items) "
   ]
  },
  {
   "cell_type": "code",
   "execution_count": 26,
   "id": "c60254cc-cf47-43a6-b2ad-b3db2c77c223",
   "metadata": {},
   "outputs": [
    {
     "name": "stdout",
     "output_type": "stream",
     "text": [
      "85\n"
     ]
    }
   ],
   "source": [
    "##Dictionary key:\n",
    "# Using a tuple as a dictionary key\n",
    "student_scores = {('John', 'Doe'): 85, ('Jane', 'Doe'): 90}\n",
    "print(student_scores[('John', 'Doe')])"
   ]
  },
  {
   "cell_type": "code",
   "execution_count": 27,
   "id": "26126963-f20c-4bff-bc65-2e414f10d8f4",
   "metadata": {},
   "outputs": [
    {
     "name": "stdout",
     "output_type": "stream",
     "text": [
      "{'name': 'Alice', 'age': 23, 'major': 'Computer Science'}\n"
     ]
    }
   ],
   "source": [
    "##Q7.Describe how to add, modify and delete items in a dictionary with examples?\n",
    "\n",
    "## Examples  Adding Items to a Dictionary\n",
    "# Creating an empty dictionary\n",
    "student = {}\n",
    "\n",
    "# Adding items\n",
    "student['name'] = 'Alice'\n",
    "student['age'] = 23\n",
    "student['major'] = 'Computer Science'\n",
    "\n",
    "print(student)"
   ]
  },
  {
   "cell_type": "code",
   "execution_count": 28,
   "id": "98d66248-6982-466d-a9e7-ec413091afd7",
   "metadata": {},
   "outputs": [
    {
     "name": "stdout",
     "output_type": "stream",
     "text": [
      "{'name': 'Alice', 'age': 24, 'major': 'Data Science'}\n"
     ]
    }
   ],
   "source": [
    "## Modifying Items in a Dictionary\\\n",
    "# Existing dictionary\n",
    "student = {'name': 'Alice', 'age': 23, 'major': 'Computer Science'}\n",
    "\n",
    "# Modifying an item\n",
    "student['age'] = 24\n",
    "student['major'] = 'Data Science'\n",
    "\n",
    "print(student)"
   ]
  },
  {
   "cell_type": "code",
   "execution_count": 29,
   "id": "016fdbf3-fe0e-4fed-b997-d5747b93fdbd",
   "metadata": {},
   "outputs": [
    {
     "name": "stdout",
     "output_type": "stream",
     "text": [
      "{'name': 'Alice', 'major': 'Data Science'}\n"
     ]
    }
   ],
   "source": [
    "## Deleting a item from dictionary\n",
    "\n",
    "student = {'name': 'Alice', 'age': 24, 'major': 'Data Science'}\n",
    "\n",
    "# Deleting an item using del\n",
    "del student['age']\n",
    "print(student)"
   ]
  },
  {
   "cell_type": "code",
   "execution_count": 30,
   "id": "d3b60aa8-2a5f-45f3-86f7-3ae1a88173a0",
   "metadata": {},
   "outputs": [
    {
     "name": "stdout",
     "output_type": "stream",
     "text": [
      "{'name': 'Alice'}\n",
      "Data Science\n"
     ]
    }
   ],
   "source": [
    "# Deleting an item using .pop()\n",
    "major = student.pop('major')\n",
    "print(student)  \n",
    "print(major)  \n"
   ]
  },
  {
   "cell_type": "code",
   "execution_count": 31,
   "id": "b731b476-c078-43c8-ac44-56e1c146e2f3",
   "metadata": {},
   "outputs": [
    {
     "name": "stdout",
     "output_type": "stream",
     "text": [
      "{1: 'Alice', 'name': 'Bob', (2024, 'Senior'): True}\n"
     ]
    }
   ],
   "source": [
    "### Q8.Discuss the importance of dictionary keys being immutable and provide examples?\n",
    "##\n",
    "person = {\n",
    "    1: \"Alice\",         # Integer key\n",
    "    \"name\": \"Bob\",      # String key\n",
    "    (2024, \"Senior\"): True  # Tuple key\n",
    "}\n",
    "print(person)"
   ]
  },
  {
   "cell_type": "code",
   "execution_count": 32,
   "id": "2bff9edc-e00d-4779-adfe-b18b0e1df669",
   "metadata": {},
   "outputs": [
    {
     "name": "stdout",
     "output_type": "stream",
     "text": [
      "unhashable type: 'list'\n"
     ]
    }
   ],
   "source": [
    "##Invalid Mutable Keys:\n",
    "\n",
    "try:\n",
    "    data = {[1, 2, 3]: \"Numbers\"}  # List as key (not allowed)\n",
    "except TypeError as e:\n",
    "    print(e) "
   ]
  },
  {
   "cell_type": "code",
   "execution_count": null,
   "id": "1dd64e79-011b-42cb-bf7f-05eb1e3aacbd",
   "metadata": {},
   "outputs": [],
   "source": []
  }
 ],
 "metadata": {
  "kernelspec": {
   "display_name": "Python 3 (ipykernel)",
   "language": "python",
   "name": "python3"
  },
  "language_info": {
   "codemirror_mode": {
    "name": "ipython",
    "version": 3
   },
   "file_extension": ".py",
   "mimetype": "text/x-python",
   "name": "python",
   "nbconvert_exporter": "python",
   "pygments_lexer": "ipython3",
   "version": "3.10.8"
  }
 },
 "nbformat": 4,
 "nbformat_minor": 5
}
