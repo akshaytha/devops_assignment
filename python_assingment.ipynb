{
 "cells": [
  {
   "cell_type": "code",
   "execution_count": 4,
   "id": "6a8f615d-1df1-47a1-97dd-89525b96769a",
   "metadata": {},
   "outputs": [
    {
     "name": "stdout",
     "output_type": "stream",
     "text": [
      "The number is odd.\n"
     ]
    }
   ],
   "source": [
    "#Q2.Control flow example\n",
    "num = 7\n",
    "if num % 2 == 0:  # 'if' checks if the number is divisible by 2\n",
    "    print(\"The number is even.\")\n",
    "else:  # 'else' handles the case when the number is not even\n",
    "    print(\"The number is odd.\")\n",
    "\n",
    "\n"
   ]
  },
  {
   "cell_type": "code",
   "execution_count": 7,
   "id": "eb6e4d6b-9b0d-4b61-8718-e55dea423550",
   "metadata": {},
   "outputs": [
    {
     "name": "stdout",
     "output_type": "stream",
     "text": [
      "25\n",
      "<class 'int'>\n",
      "True\n",
      "<class 'bool'>\n",
      "['apple', 'banana', 'cherry']\n",
      "<class 'list'>\n",
      "{1, 2, 3}\n",
      "<class 'set'>\n"
     ]
    }
   ],
   "source": [
    "# datatype examples\n",
    "\n",
    "# Integer data type\n",
    "age = 25\n",
    "print(age)  \n",
    "print(type(age))  \n",
    "\n",
    "# Boolean data type\n",
    "is_student = True\n",
    "print(is_student)  \n",
    "print(type(is_student)) \n",
    "\n",
    "# List data type\n",
    "fruits = [\"apple\", \"banana\", \"cherry\"]\n",
    "print(fruits)  \n",
    "print(type(fruits))  \n",
    "\n",
    "# Set data type\n",
    "unique_numbers = {1, 2, 3, 3, 2, 1}\n",
    "print(unique_numbers)  \n",
    "print(type(unique_numbers))  \n",
    "\n",
    "\n"
   ]
  },
  {
   "cell_type": "code",
   "execution_count": 8,
   "id": "f4611507-ed0e-4677-9893-982361325795",
   "metadata": {},
   "outputs": [
    {
     "name": "stdout",
     "output_type": "stream",
     "text": [
      "['apple', 'blueberry', 'cherry']\n",
      "['apple', 'blueberry', 'cherry', 'orange']\n",
      "['blueberry', 'cherry', 'orange']\n"
     ]
    }
   ],
   "source": [
    "# Q3.Compare and contrast mutable and immutable objects in Python with examples ?\n",
    "#Mutable Objects ex\n",
    "# Creating a list\n",
    "fruits = [\"apple\", \"banana\", \"cherry\"]\n",
    "\n",
    "# Modifying an element in the list\n",
    "fruits[1] = \"blueberry\"\n",
    "print(fruits) \n",
    "\n",
    "# Adding a new element to the list\n",
    "fruits.append(\"orange\")\n",
    "print(fruits)  \n",
    "\n",
    "# Removing an element from the list\n",
    "fruits.remove(\"apple\")\n",
    "print(fruits)  \n",
    "\n",
    "\n",
    "\n"
   ]
  },
  {
   "cell_type": "code",
   "execution_count": 9,
   "id": "c5af3c2d-1a3c-4062-bf28-c7061e27eac1",
   "metadata": {},
   "outputs": [
    {
     "name": "stdout",
     "output_type": "stream",
     "text": [
      "15\n"
     ]
    }
   ],
   "source": [
    "#Immutable Objects EX\n",
    "# Creating an integer\n",
    "number = 10\n",
    "\n",
    "# Attempting to modify the integer (this creates a new integer)\n",
    "number += 5  \n",
    "print(number)  \n",
    "\n",
    "# The original integer object with value 10 is not modified; instead, a new object is created with value 15.\n"
   ]
  },
  {
   "cell_type": "code",
   "execution_count": 10,
   "id": "0ffc894f-ebb7-4d83-94b7-89b3c200c024",
   "metadata": {},
   "outputs": [
    {
     "name": "stdout",
     "output_type": "stream",
     "text": [
      "13\n",
      "7\n",
      "30\n",
      "3.3333333333333335\n",
      "1\n",
      "1000\n",
      "3\n"
     ]
    }
   ],
   "source": [
    "# Q4.Discuss the different types of operators in Python and provide examples of how they are used?\n",
    "#Arithmetic\n",
    "a = 10\n",
    "b = 3\n",
    "\n",
    "print(a + b)   \n",
    "print(a - b)   \n",
    "print(a * b)   \n",
    "print(a / b)   \n",
    "print(a % b)   \n",
    "print(a ** b)  \n",
    "print(a // b)  \n"
   ]
  },
  {
   "cell_type": "code",
   "execution_count": 11,
   "id": "6e2cd03e-825a-46fe-921c-641a79fc1193",
   "metadata": {},
   "outputs": [
    {
     "name": "stdout",
     "output_type": "stream",
     "text": [
      "False\n",
      "True\n",
      "False\n",
      "True\n",
      "True\n",
      "True\n"
     ]
    }
   ],
   "source": [
    "#Relational operator\n",
    "a = 10\n",
    "b = 20\n",
    "\n",
    "print(a == b)   \n",
    "print(a != b)   \n",
    "print(a > b)    \n",
    "print(a < b)    \n",
    "print(a >= 10)  \n",
    "print(b <= 20)  \n"
   ]
  },
  {
   "cell_type": "code",
   "execution_count": 12,
   "id": "580df59f-7a56-494b-9427-d39d7299123b",
   "metadata": {},
   "outputs": [
    {
     "name": "stdout",
     "output_type": "stream",
     "text": [
      "0\n",
      "14\n",
      "14\n",
      "-11\n",
      "20\n",
      "5\n"
     ]
    }
   ],
   "source": [
    "#Bitwise Operator\n",
    "a = 10  \n",
    "b = 4   \n",
    "\n",
    "print(a & b)   \n",
    "print(a | b)   \n",
    "print(a ^ b)   \n",
    "print(~a)      \n",
    "print(a << 1)  \n",
    "print(a >> 1)  \n"
   ]
  },
  {
   "cell_type": "code",
   "execution_count": 13,
   "id": "d758d0ca-773b-4c81-af32-bd6aa99f3336",
   "metadata": {},
   "outputs": [
    {
     "name": "stdout",
     "output_type": "stream",
     "text": [
      "15\n",
      "30\n",
      "10\n"
     ]
    }
   ],
   "source": [
    "#Assign operator\n",
    "a = 10\n",
    "\n",
    "a += 5   \n",
    "print(a) \n",
    "\n",
    "a *= 2   \n",
    "print(a)  \n",
    "\n",
    "a //= 3  \n",
    "print(a)  "
   ]
  },
  {
   "cell_type": "code",
   "execution_count": 14,
   "id": "dddf0d24-6c53-4b58-a741-09dd976eda56",
   "metadata": {},
   "outputs": [
    {
     "name": "stdout",
     "output_type": "stream",
     "text": [
      "3\n",
      "42\n"
     ]
    }
   ],
   "source": [
    "#Q5 Explain the concept of type casting in Python with examples?\n",
    "\n",
    "# Converting a float to an integer\n",
    "x = 3.14\n",
    "x_int = int(x)\n",
    "print(x_int)  \n",
    "\n",
    "# Converting a string to an integer\n",
    "y = \"42\"\n",
    "y_int = int(y)\n",
    "print(y_int)  \n"
   ]
  },
  {
   "cell_type": "code",
   "execution_count": 15,
   "id": "4e6cee65-6994-45c0-bb5b-cebc459cc826",
   "metadata": {},
   "outputs": [
    {
     "name": "stdout",
     "output_type": "stream",
     "text": [
      "10.0\n",
      "3.14\n"
     ]
    }
   ],
   "source": [
    "## Converting an integer to a float\n",
    "x = 10\n",
    "x_float = float(x)\n",
    "print(x_float)  \n",
    "\n",
    "# Converting a string to a float\n",
    "y = \"3.14\"\n",
    "y_float = float(y)\n",
    "print(y_float)  \n"
   ]
  },
  {
   "cell_type": "code",
   "execution_count": 16,
   "id": "e320d9cc-f499-4ab0-b8e7-4132a709b12e",
   "metadata": {},
   "outputs": [
    {
     "name": "stdout",
     "output_type": "stream",
     "text": [
      "100\n",
      "3.14\n"
     ]
    }
   ],
   "source": [
    "#converting to string\n",
    "# Converting an integer to a string\n",
    "x = 100\n",
    "x_str = str(x)\n",
    "print(x_str)  \n",
    "\n",
    "# Converting a float to a string\n",
    "y = 3.14\n",
    "y_str = str(y)\n",
    "print(y_str)  \n"
   ]
  },
  {
   "cell_type": "code",
   "execution_count": 18,
   "id": "eb00dd48-8dde-47c7-8b4d-63b788f18ec6",
   "metadata": {},
   "outputs": [
    {
     "name": "stdout",
     "output_type": "stream",
     "text": [
      "You are an adult.\n"
     ]
    }
   ],
   "source": [
    "#Q6 How do conditional statements work in Python? Illustrate with examples? \n",
    "#IF Example\n",
    "\n",
    "age = 18\n",
    "\n",
    "if age >= 18:\n",
    "    print(\"You are an adult.\")\n"
   ]
  },
  {
   "cell_type": "code",
   "execution_count": 19,
   "id": "b95f7b53-7039-41a3-b622-e51b333296fc",
   "metadata": {},
   "outputs": [
    {
     "name": "stdout",
     "output_type": "stream",
     "text": [
      "You are a minor.\n"
     ]
    }
   ],
   "source": [
    "#Else example\n",
    "age = 16\n",
    "\n",
    "if age >= 18:\n",
    "    print(\"You are an adult.\")\n",
    "else:\n",
    "    print(\"You are a minor.\")\n",
    "\n",
    "    "
   ]
  },
  {
   "cell_type": "code",
   "execution_count": 20,
   "id": "7036c0d5-91c7-4327-a657-0a7728ae8879",
   "metadata": {},
   "outputs": [
    {
     "name": "stdout",
     "output_type": "stream",
     "text": [
      "You are an adult.\n"
     ]
    }
   ],
   "source": [
    "#Elif\n",
    "age = 20\n",
    "\n",
    "if age < 13:\n",
    "    print(\"You are a child.\")\n",
    "elif 13 <= age < 18:\n",
    "    print(\"You are a teenager.\")\n",
    "else:\n",
    "    print(\"You are an adult.\")\n"
   ]
  },
  {
   "cell_type": "code",
   "execution_count": 21,
   "id": "796b308f-76e2-4b57-b187-6448b773b02b",
   "metadata": {},
   "outputs": [
    {
     "name": "stdout",
     "output_type": "stream",
     "text": [
      "apple\n",
      "banana\n",
      "cherry\n"
     ]
    }
   ],
   "source": [
    "#Q7 Describe the different types of loops in Python and their use cases with examples?\n",
    "#for\n",
    "# Iterating over a list\n",
    "fruits = [\"apple\", \"banana\", \"cherry\"]\n",
    "for fruit in fruits:\n",
    "    print(fruit)\n"
   ]
  },
  {
   "cell_type": "code",
   "execution_count": 22,
   "id": "4b9a4101-b12c-4545-983d-e4742e909199",
   "metadata": {},
   "outputs": [
    {
     "name": "stdout",
     "output_type": "stream",
     "text": [
      "0\n",
      "1\n",
      "2\n",
      "3\n",
      "4\n"
     ]
    }
   ],
   "source": [
    "## Basic while loop\n",
    "count = 0\n",
    "while count < 5:\n",
    "    print(count)\n",
    "    count += 1\n"
   ]
  },
  {
   "cell_type": "code",
   "execution_count": 23,
   "id": "f76a3895-22ea-4da1-a550-b2a71e290acc",
   "metadata": {},
   "outputs": [
    {
     "name": "stdout",
     "output_type": "stream",
     "text": [
      "0\n",
      "1\n",
      "2\n",
      "3\n",
      "4\n"
     ]
    }
   ],
   "source": [
    "# Using a break statement to exit the loop\n",
    "count = 0\n",
    "while True:  # Infinite loop\n",
    "    print(count)\n",
    "    count += 1\n",
    "    if count >= 5:\n",
    "        break\n"
   ]
  },
  {
   "cell_type": "code",
   "execution_count": null,
   "id": "b488114a-5b8e-4e85-9b43-7546784dc990",
   "metadata": {},
   "outputs": [],
   "source": []
  }
 ],
 "metadata": {
  "kernelspec": {
   "display_name": "Python 3 (ipykernel)",
   "language": "python",
   "name": "python3"
  },
  "language_info": {
   "codemirror_mode": {
    "name": "ipython",
    "version": 3
   },
   "file_extension": ".py",
   "mimetype": "text/x-python",
   "name": "python",
   "nbconvert_exporter": "python",
   "pygments_lexer": "ipython3",
   "version": "3.10.8"
  }
 },
 "nbformat": 4,
 "nbformat_minor": 5
}
